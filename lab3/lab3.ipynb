{
 "cells": [
  {
   "cell_type": "markdown",
   "metadata": {},
   "source": [
    "# Redes Neuronales Recurrentes aplicadas a la calidad del agua"
   ]
  },
  {
   "cell_type": "markdown",
   "metadata": {},
   "source": [
    "De acuerdo al planteamiento pedido para la toma de datos en este caso la generacion de un dataset sintetico respecto a la calidad del agua se revisó el siguiente documento `https://www.bivica.org/files/normativa-calidad-agua.pdf` sobre la normativa nacional de los riquisitos del agua donde es posible determinar los campos fisicos, organolepticos, quimicos, parametros de desinfeccion, plaguicidas, radioactividad, microbiologicos y de control referencial, se tomo en cuenta los valores de control refencial y los requisitos fisicos dado que estos demostraran el proceso por el cual el agua pasa para asegurar su potabilidad teniendo como referencia la calidad del agua previo tratamiento y post tratamiento."
   ]
  },
  {
   "cell_type": "markdown",
   "metadata": {},
   "source": [
    "### Importacion de librerias"
   ]
  },
  {
   "cell_type": "code",
   "execution_count": 1,
   "metadata": {},
   "outputs": [],
   "source": [
    "import numpy as np"
   ]
  },
  {
   "cell_type": "markdown",
   "metadata": {},
   "source": [
    "### Generacion del dataset sintetico"
   ]
  },
  {
   "cell_type": "code",
   "execution_count": 2,
   "metadata": {},
   "outputs": [],
   "source": [
    "def generate_water_quality_data(batch_size, n_steps):\n",
    "    # Define parameters for water quality\n",
    "    conductivity = 1500.0  # µS/cm\n",
    "    alkalinity = 370.0  # mg/L CaCO3\n",
    "    langelier_index = np.random.uniform(-0.5, 0.5, size=(batch_size, 1))  # Langelier index\n",
    "    \n",
    "    # Generate time steps\n",
    "    time = np.linspace(0, 1, n_steps)\n",
    "    \n",
    "    # Generate water quality data\n",
    "    conductivity_data = conductivity + 0.1 * (np.random.rand(batch_size, n_steps) - 0.5)\n",
    "    alkalinity_data = alkalinity + 0.05 * (np.random.rand(batch_size, n_steps) - 0.5)\n",
    "    \n",
    "    # Scale alkalinity based on Langelier index\n",
    "    alkalinity_data *= (1 + langelier_index * 0.2)  # Adjust based on Langelier index\n",
    "    \n",
    "    # Additional parameters for water quality\n",
    "    color_data = 15 + 0.1 * (np.random.rand(batch_size, n_steps) - 0.5)\n",
    "    turbidity_data = 5 + 0.1 * (np.random.rand(batch_size, n_steps) - 0.5)\n",
    "    dissolved_solids_data = 1000 + 10 * (np.random.rand(batch_size, n_steps) - 0.5)\n",
    "    \n",
    "    return np.concatenate([conductivity_data[..., np.newaxis], \n",
    "                            alkalinity_data[..., np.newaxis],\n",
    "                            color_data[..., np.newaxis],\n",
    "                            turbidity_data[..., np.newaxis],\n",
    "                            dissolved_solids_data[..., np.newaxis]], axis=-1).astype(np.float32)"
   ]
  },
  {
   "cell_type": "code",
   "execution_count": 3,
   "metadata": {},
   "outputs": [
    {
     "data": {
      "text/plain": [
       "((30660, 50, 5), (30660, 5))"
      ]
     },
     "execution_count": 3,
     "metadata": {},
     "output_type": "execute_result"
    }
   ],
   "source": [
    "n_steps = 50\n",
    "water_quality_data = generate_water_quality_data(43800, n_steps + 1)\n",
    "\n",
    "# Split data into train, validation, and test sets\n",
    "X_train, y_train = water_quality_data[:30660, :n_steps], water_quality_data[:30660, -1]\n",
    "X_valid, y_valid = water_quality_data[30660:39480, :n_steps], water_quality_data[30660:39480, -1]\n",
    "X_test, y_test = water_quality_data[39480:, :n_steps], water_quality_data[39480:, -1]\n",
    "X_train.shape, y_train.shape"
   ]
  },
  {
   "cell_type": "code",
   "execution_count": 4,
   "metadata": {},
   "outputs": [
    {
     "name": "stdout",
     "output_type": "stream",
     "text": [
      "[[[1500.0383     379.4879      14.97905      5.036208   999.6854   ]\n",
      "  [1500.0323     379.47836     15.036694     4.963944  1001.72864  ]\n",
      "  [1500.0233     379.4977      15.015889     5.005746   997.35706  ]\n",
      "  ...\n",
      "  [1499.9835     379.49933     14.987739     5.009787  1001.355    ]\n",
      "  [1500.0242     379.4991      14.971657     5.0204406  995.02673  ]\n",
      "  [1499.9857     379.4749      14.955719     5.0488944 1003.96265  ]]\n",
      "\n",
      " [[1499.9543     351.49243     14.985538     4.9589853 1000.49927  ]\n",
      "  [1500.0114     351.49252     14.980996     5.010379  1001.12506  ]\n",
      "  [1500.0483     351.502       15.048388     5.0219073  996.7843   ]\n",
      "  ...\n",
      "  [1500.0289     351.50116     14.96382      5.0439444 1000.86176  ]\n",
      "  [1500.0107     351.5188      14.995224     5.0192223  998.3963   ]\n",
      "  [1500.011      351.5124      14.982451     4.969634   995.9462   ]]\n",
      "\n",
      " [[1500.0189     344.7967      14.984233     5.038854  1002.4518   ]\n",
      "  [1500.0468     344.77658     14.989431     5.000339  1001.1082   ]\n",
      "  [1500.0192     344.80045     15.03798      4.969286  1001.739    ]\n",
      "  ...\n",
      "  [1500.0271     344.7997      14.995384     4.9591846  996.3712   ]\n",
      "  [1499.9897     344.77225     15.003079     5.0310807  997.48535  ]\n",
      "  [1499.9739     344.7736      14.99376      5.0098124  995.4564   ]]\n",
      "\n",
      " ...\n",
      "\n",
      " [[1500.0464     345.37375     14.98935      4.9726124  997.9122   ]\n",
      "  [1499.9976     345.39288     15.041439     5.0298395 1001.927    ]\n",
      "  [1500.004      345.39218     14.999384     4.9928007 1003.755    ]\n",
      "  ...\n",
      "  [1499.9945     345.36755     14.993748     4.9849143 1003.6318   ]\n",
      "  [1500.042      345.39825     15.005841     5.0120745 1004.599    ]\n",
      "  [1499.9885     345.39752     15.040461     5.0286326  999.42975  ]]\n",
      "\n",
      " [[1499.9568     368.60138     15.036252     4.981607  1004.7149   ]\n",
      "  [1499.9602     368.60205     14.965125     5.032071  1003.83344  ]\n",
      "  [1499.9886     368.5896      15.039606     5.017566   996.45795  ]\n",
      "  ...\n",
      "  [1500.0035     368.57117     15.017791     5.0431476 1001.9559   ]\n",
      "  [1499.9519     368.58377     14.985222     4.95342   1002.0643   ]\n",
      "  [1499.9761     368.57147     14.994956     4.977468   998.2982   ]]\n",
      "\n",
      " [[1500.0385     343.18686     15.019345     4.973708  1001.7564   ]\n",
      "  [1500.0151     343.16553     15.035162     5.011628  1001.4292   ]\n",
      "  [1499.9834     343.18158     15.026322     5.005294   995.7414   ]\n",
      "  ...\n",
      "  [1500.0283     343.1947      14.964647     4.9567037 1004.54645  ]\n",
      "  [1500.0188     343.19876     14.956613     4.982072   999.7135   ]\n",
      "  [1499.9913     343.16663     15.038087     5.044478   996.1358   ]]]\n"
     ]
    }
   ],
   "source": [
    "print (water_quality_data)"
   ]
  }
 ],
 "metadata": {
  "kernelspec": {
   "display_name": "predict_env",
   "language": "python",
   "name": "python3"
  },
  "language_info": {
   "codemirror_mode": {
    "name": "ipython",
    "version": 3
   },
   "file_extension": ".py",
   "mimetype": "text/x-python",
   "name": "python",
   "nbconvert_exporter": "python",
   "pygments_lexer": "ipython3",
   "version": "3.10.13"
  }
 },
 "nbformat": 4,
 "nbformat_minor": 2
}
