{
 "cells": [
  {
   "cell_type": "markdown",
   "metadata": {},
   "source": [
    "# Modelo de deteccion usando Transfer Learning\n",
    "\n",
    " Mediante el presente cuadernillo se hara el seguimiento paso a paso por el codigo y las decisiones tomadas para abordar este problema planteado para el primer parcial donde el objetivo es generar un modelo de deteccion usando el dataset generado por el curso"
   ]
  },
  {
   "cell_type": "code",
   "execution_count": null,
   "metadata": {
    "vscode": {
     "languageId": "plaintext"
    }
   },
   "outputs": [],
   "source": [
    "PATH = 'completados'"
   ]
  }
 ],
 "metadata": {
  "language_info": {
   "name": "python"
  }
 },
 "nbformat": 4,
 "nbformat_minor": 2
}
